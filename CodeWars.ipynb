{
 "cells": [
  {
   "cell_type": "markdown",
   "metadata": {},
   "source": [
    "Count the number of Duplicates\n",
    "Write a function that will return the count of distinct case-insensitive alphabetic characters and numeric digits that occur more than once in the input string. The input string can be assumed to contain only alphabets (both uppercase and lowercase) and numeric digits.\n",
    "\n",
    "Example\n",
    "\"abcde\" -> 0 # no characters repeats more than once\n",
    "\"aabbcde\" -> 2 # 'a' and 'b'\n",
    "\"aabBcde\" -> 2 # 'a' occurs twice and 'b' twice (bandB)\n",
    "\"indivisibility\" -> 1 # 'i' occurs six times\n",
    "\"Indivisibilities\" -> 2 # 'i' occurs seven times and 's' occurs twice\n",
    "\"aA11\" -> 2 # 'a' and '1'\n",
    "\"ABBA\" -> 2 # 'A' and 'B' each occur twice"
   ]
  },
  {
   "cell_type": "code",
   "execution_count": 1,
   "metadata": {},
   "outputs": [],
   "source": [
    "def duplicate_count(text):\n",
    "    # Your code goes here\n",
    "    new_text = text.lower()\n",
    "\n",
    "    count = 0\n",
    "    dictionary = {}\n",
    "\n",
    "    for i in range(0,len(new_text)):\n",
    "        dictionary[new_text[i]] = 0\n",
    "\n",
    "    for key in dictionary:\n",
    "        for i in range(0,len(new_text)):\n",
    "            if(key == new_text[i]):\n",
    "                dictionary[key] = dictionary[key] + 1\n",
    "\n",
    "    for key in dictionary:\n",
    "        if(dictionary[key] > 1):\n",
    "            count = count + 1\n",
    "\n",
    "    print(dictionary)\n",
    "    return count"
   ]
  },
  {
   "cell_type": "code",
   "execution_count": null,
   "metadata": {},
   "outputs": [],
   "source": [
    "def duplicate_count(s):\n",
    "    return len([c for c in set(s.lower()) if s.lower().count(c)>1])"
   ]
  },
  {
   "cell_type": "code",
   "execution_count": null,
   "metadata": {},
   "outputs": [],
   "source": [
    "def duplicate_count(text):\n",
    "    seen = set()\n",
    "    dupes = set()\n",
    "    for char in text:\n",
    "        char = char.lower()\n",
    "        if char in seen:\n",
    "            dupes.add(char)\n",
    "        seen.add(char)\n",
    "    return len(dupes)"
   ]
  },
  {
   "cell_type": "code",
   "execution_count": null,
   "metadata": {},
   "outputs": [],
   "source": [
    "from collections import Counter\n",
    "\n",
    "def duplicate_count(text):\n",
    "    return sum(1 for c, n in Counter(text.lower()).iteritems() if n > 1)"
   ]
  },
  {
   "cell_type": "code",
   "execution_count": null,
   "metadata": {},
   "outputs": [],
   "source": [
    "from collections import Counter\n",
    "\n",
    "def duplicate_count(text):\n",
    "    counter = Counter(text.lower())\n",
    "    return len([counter.keys() for i in counter.values() if i>1])"
   ]
  },
  {
   "cell_type": "code",
   "execution_count": null,
   "metadata": {},
   "outputs": [],
   "source": [
    "def duplicate_count(text):\n",
    "    text = text.lower()\n",
    "    return(sum([text.count(c) > 1 for c in set(text)]))\n",
    "     "
   ]
  }
 ],
 "metadata": {
  "kernelspec": {
   "display_name": "Python [default]",
   "language": "python",
   "name": "python3"
  },
  "language_info": {
   "codemirror_mode": {
    "name": "ipython",
    "version": 3
   },
   "file_extension": ".py",
   "mimetype": "text/x-python",
   "name": "python",
   "nbconvert_exporter": "python",
   "pygments_lexer": "ipython3",
   "version": "3.6.4"
  }
 },
 "nbformat": 4,
 "nbformat_minor": 2
}
